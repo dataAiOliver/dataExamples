{
 "cells": [
  {
   "cell_type": "code",
   "execution_count": 14,
   "metadata": {},
   "outputs": [
    {
     "name": "stdout",
     "output_type": "stream",
     "text": [
      "Customers\n",
      "Products\n",
      "Orders\n"
     ]
    }
   ],
   "source": [
    "from faker import Faker\n",
    "import pandas as pd\n",
    "import random\n",
    "\n",
    "fake = Faker()\n",
    "\n",
    "def create_orders_data__xlsx(num_customers = 500, num_products = 20, num_orders = 10000, base_path_out = \"out\"):\n",
    "    schema = \"orders_data\"    \n",
    "\n",
    "    # Pre-generate random values to select from\n",
    "    customer_names = [fake.name() for _ in range(num_customers)]\n",
    "    emails = [fake.email() for _ in range(30)]\n",
    "    phone_numbers = [fake.phone_number() for _ in range(30)]\n",
    "    addresses = [fake.address().replace(\"\\n\", \", \") for _ in range(30)]\n",
    "    countries = [fake.country() for _ in range(10)] + [\"USA\", \"Germany\"]\n",
    "\n",
    "    print(\"Customers\")\n",
    "    # Create Customers DataFrame\n",
    "    customers_data = {\n",
    "        \"CustomerID\": range(1, num_customers + 1),\n",
    "        \"CustomerName\": random.choices(customer_names, k=num_customers),\n",
    "        \"Email\": random.choices(emails, k=num_customers),\n",
    "        \"PhoneNumber\": random.choices(phone_numbers, k=num_customers),\n",
    "        \"Address\": random.choices(addresses, k=num_customers),\n",
    "        \"Country\": random.choices(countries, k=num_customers)\n",
    "    }\n",
    "    customers_df = pd.DataFrame(customers_data)\n",
    "    customers_df.to_csv(f\"{base_path_out}/customers.csv\", index=False)\n",
    "\n",
    "    print(\"Products\")\n",
    "    # Define categories with sample products for each\n",
    "    categories = {\n",
    "        \"Electronics\": [\"Smartphone\", \"Laptop\", \"Headphones\", \"Smartwatch\", \"Tablet\"],\n",
    "        \"Clothing\": [\"T-Shirt\", \"Jeans\", \"Sweater\", \"Jacket\", \"Shoes\"],\n",
    "        \"Toys\": [\"Action Figure\", \"Board Game\", \"Puzzle\", \"Doll\", \"Remote Control Car\"],\n",
    "        \"Home\": [\"Blender\", \"Vacuum Cleaner\", \"Microwave\", \"Coffee Maker\", \"Toaster\"],\n",
    "        \"Sports\": [\"Basketball\", \"Soccer Ball\", \"Tennis Racket\", \"Yoga Mat\", \"Dumbbells\"]\n",
    "    }\n",
    "\n",
    "    # Number of products\n",
    "    num_products = 20\n",
    "\n",
    "    # Generate product data\n",
    "    products_data = {\n",
    "        \"ProductID\": range(1, num_products + 1),\n",
    "        \"ProductName\": [],\n",
    "        \"Category\": [],\n",
    "        \"Price\": [],\n",
    "        \"Stock\": []\n",
    "    }\n",
    "\n",
    "    for _ in range(num_products):\n",
    "        # Select a random category\n",
    "        category = random.choice(list(categories.keys()))\n",
    "        \n",
    "        # Select a product name that belongs to the chosen category\n",
    "        product_name = random.choice(categories[category])\n",
    "        \n",
    "        # Generate random price and stock\n",
    "        price = round(random.uniform(10, 500), 2)\n",
    "        stock = random.randint(10, 1000)\n",
    "        \n",
    "        # Append data to the dictionary\n",
    "        products_data[\"ProductName\"].append(product_name)\n",
    "        products_data[\"Category\"].append(category)\n",
    "        products_data[\"Price\"].append(price)\n",
    "        products_data[\"Stock\"].append(stock)\n",
    "        \n",
    "    products_df = pd.DataFrame(products_data)\n",
    "    products_df.to_csv(f\"{base_path_out}/products.csv\", index=False)\n",
    "\n",
    "    print(\"Orders\")\n",
    "    order_dates = [fake.date_this_year() for _ in range(50)]\n",
    "    # Create Orders DataFrame without TotalAmount initially\n",
    "    orders_data = {\n",
    "        \"OrderID\": range(1, num_orders + 1),\n",
    "        \"CustomerID\": random.choices(customers_data[\"CustomerID\"], k=num_orders),\n",
    "        \"ProductID\": random.choices(products_data[\"ProductID\"], k=num_orders),\n",
    "        \"OrderDate\": random.choices(order_dates, k=num_orders),\n",
    "        \"Quantity\": random.choices(range(1, 20), k=num_orders),\n",
    "    }\n",
    "\n",
    "    # Convert orders_data to DataFrame\n",
    "    orders_df = pd.DataFrame(orders_data)\n",
    "\n",
    "    # Calculate TotalAmount based on ProductID and Quantity, then add it to the DataFrame\n",
    "    orders_df[\"TotalAmount\"] = orders_df.apply(\n",
    "        lambda row: round(products_df.loc[row[\"ProductID\"] - 1, \"Price\"] * row[\"Quantity\"], 2), axis=1\n",
    "    )\n",
    "    orders_df.to_csv(f\"{base_path_out}/orders.csv\", index=False)\n",
    "\n",
    "    return customers_df, products_df, orders_df\n",
    "\n",
    "\n",
    "customers_df, products_df, orders_df = create_orders_data__xlsx()"
   ]
  },
  {
   "cell_type": "code",
   "execution_count": 11,
   "metadata": {},
   "outputs": [
    {
     "name": "stdout",
     "output_type": "stream",
     "text": [
      "Columns Customer: ['CustomerID', 'CustomerName', 'Email', 'PhoneNumber', 'Address', 'Country']\n",
      "Columns Products: ['ProductID', 'ProductName', 'Category', 'Price', 'Stock']\n",
      "Columns Orders: ['OrderID', 'CustomerID', 'ProductID', 'OrderDate', 'Quantity', 'TotalAmount']\n"
     ]
    }
   ],
   "source": [
    "print(f\"Columns Customer: {list(customers_df.columns)}\")\n",
    "print(f\"Columns Products: {list(products_df.columns)}\")\n",
    "print(f\"Columns Orders: {list(orders_df.columns)}\")"
   ]
  }
 ],
 "metadata": {
  "kernelspec": {
   "display_name": ".venv",
   "language": "python",
   "name": "python3"
  },
  "language_info": {
   "codemirror_mode": {
    "name": "ipython",
    "version": 3
   },
   "file_extension": ".py",
   "mimetype": "text/x-python",
   "name": "python",
   "nbconvert_exporter": "python",
   "pygments_lexer": "ipython3",
   "version": "3.11.9"
  }
 },
 "nbformat": 4,
 "nbformat_minor": 2
}
