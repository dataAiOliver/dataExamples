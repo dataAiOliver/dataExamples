{
 "cells": [
  {
   "cell_type": "code",
   "execution_count": 7,
   "metadata": {},
   "outputs": [
    {
     "name": "stdout",
     "output_type": "stream",
     "text": [
      "time = get_current_time()\n",
      "print(time)\n",
      "20:28:51\n",
      "\n"
     ]
    }
   ],
   "source": [
    "import pydoc, utils_generation, os, requests, json, io\n",
    "from contextlib import redirect_stdout\n",
    "from utils_generation import *\n",
    "from dotenv import load_dotenv\n",
    "load_dotenv(override=True)\n",
    "\n",
    "\n",
    "# If you do not have an LLM, just execute the prompt in chatGPT or anoter LLM free to use.\n",
    "def execute_text_prompt(prompt, API_KEY = os.getenv(\"AZURE_OPENAI_API_KEY\"), ENDPOINT = os.getenv(\"AZURE_OPENAI_ENDPOINT\"), is_json_response = None, pdf_binary = None):\n",
    "    headers = {\"Content-Type\": \"application/json\",\"api-key\": API_KEY}\n",
    "    payload = {\"messages\" : [{ \"role\": \"user\",\"content\": [{\"type\": \"text\",\"text\": prompt}]}]}\n",
    "    response = \"DUMMY\"\n",
    "    try:\n",
    "        response = requests.post(ENDPOINT, headers=headers, json=payload)\n",
    "        response_short = response.json()[\"choices\"][0][\"message\"][\"content\"]\n",
    "        if is_json_response:\n",
    "            if response_short.startswith(\"```\"):\n",
    "                response_short = \"\\n\".join(response_short.splitlines()[1:-1])\n",
    "            response_short = json.loads(response_short, strict=False)\n",
    "    except requests.RequestException as e:\n",
    "        print(f\"ERROR: {e}\")\n",
    "        return response\n",
    "\n",
    "    return response_short\n",
    "\n",
    "# Creates a documentation for your functions\n",
    "fn_docs = \"documentation.txt\"\n",
    "with open(fn_docs, \"w\") as file: file.write(pydoc.plain(pydoc.render_doc(utils_generation)))\n",
    "\n",
    "with open(fn_docs, \"r\") as f: available_functions = f.read()\n",
    "\n",
    "prompt = \"What time is it?\"\n",
    "\n",
    "prompt_adapted = f\"\"\"Initial prompt is\n",
    "\n",
    "'{prompt}'\n",
    "\n",
    "To answer this prompt, generate a function based on available functions:\n",
    "\n",
    "'{available_functions}'\n",
    "\n",
    "Whenever possible, use one of the provided functions. Do not create functions on your own.\n",
    "\n",
    "Format your response as JSON in this format:\n",
    "\n",
    "{{\"code\": \"xxx\"}}\n",
    "\n",
    "Do not make any imports in the code. I will handle this.\n",
    "\n",
    "Do not put anything else in the response except the JSON.\n",
    "\n",
    "Do not show api keys. Use os.getenv.\n",
    "\n",
    "Print the result at the end!\"\"\"\n",
    "\n",
    "code = execute_text_prompt(prompt_adapted, is_json_response=True)[\"code\"]\n",
    "\n",
    "output = io.StringIO()\n",
    "with redirect_stdout(output): exec(code)\n",
    "captured_output = output.getvalue()\n",
    "\n",
    "print(code)\n",
    "\n",
    "print(captured_output)"
   ]
  },
  {
   "cell_type": "code",
   "execution_count": 3,
   "metadata": {},
   "outputs": [
    {
     "name": "stdout",
     "output_type": "stream",
     "text": [
      "20:26:02\n"
     ]
    }
   ],
   "source": [
    "# the variable in the executed code can be used as normal variable. But as code is generated, this name always changes. Just adapt below code based on your result.\n",
    "\n",
    "print(time_now)"
   ]
  },
  {
   "cell_type": "code",
   "execution_count": 6,
   "metadata": {},
   "outputs": [
    {
     "name": "stdout",
     "output_type": "stream",
     "text": [
      "from utils_generation import *\n",
      "import os\n",
      "\n",
      "def main():\n",
      "    location = get_location_by_ip()\n",
      "    city = location.get('city')\n",
      "    country = location.get('country')\n",
      "    if city and country:\n",
      "        api_key = os.getenv('WEATHER_API_KEY')\n",
      "        weather = get_weather(city, country, api_key)\n",
      "        print(weather)\n",
      "    else:\n",
      "        print('Could not determine location')\n",
      "\n",
      "if __name__ == '__main__':\n",
      "    main()\n",
      "code:\n",
      "from utils_generation import *\n",
      "import os\n",
      "\n",
      "def main():\n",
      "    location = get_location_by_ip()\n",
      "    city = location.get('city')\n",
      "    country = location.get('country')\n",
      "    if city and country:\n",
      "        api_key = os.getenv('WEATHER_API_KEY')\n",
      "        weather = get_weather(city, country, api_key)\n",
      "        print(weather)\n",
      "    else:\n",
      "        print('Could not determine location')\n",
      "\n",
      "if __name__ == '__main__':\n",
      "    main()\n",
      "captured_output:\n",
      "{'city': 'Koblenz', 'temperature_celsius': 8.3, 'humidity': 92, 'description': 'Overcast', 'wind_kph': 4.0}\n",
      "\n"
     ]
    }
   ],
   "source": [
    "def let_the_agent_work(prompt):\n",
    "    prompt_adapted = f\"\"\"Initial prompt is\n",
    "\n",
    "'{prompt}'\n",
    "\n",
    "To answer this prompt, generate a function based on available functions:\n",
    "\n",
    "'{available_functions}'\n",
    "\n",
    "Whenever possible, use one of the provided functions. Do not create functions on your own.\n",
    "\n",
    "Format your response as JSON in this format:\n",
    "\n",
    "{{\"code\": \"xxx\"}}\n",
    "\n",
    "Do not make any imports in the code. I will handle this.\n",
    "\n",
    "Do not put anything else in the response except the JSON.\n",
    "\n",
    "Do not show api keys. Use os.getenv.\n",
    "\n",
    "Print the result at the end!\"\"\"\n",
    "\n",
    "    code = execute_text_prompt(prompt_adapted, is_json_response=True)[\"code\"]\n",
    "    code = f\"from utils_generation import *\\n{code}\"\n",
    "\n",
    "    print(code)\n",
    "\n",
    "    output = io.StringIO()\n",
    "    with redirect_stdout(output): exec(code)\n",
    "    captured_output = output.getvalue()\n",
    "\n",
    "    return {\"code\": code, \"captured_output\": captured_output}\n",
    "\n",
    "prompt = \"What weather is it at my location?\"\n",
    "r = let_the_agent_work(prompt)\n",
    "\n",
    "for k in r:\n",
    "    print(f\"{k}:\\n{r[k]}\")"
   ]
  }
 ],
 "metadata": {
  "kernelspec": {
   "display_name": ".venv",
   "language": "python",
   "name": "python3"
  },
  "language_info": {
   "codemirror_mode": {
    "name": "ipython",
    "version": 3
   },
   "file_extension": ".py",
   "mimetype": "text/x-python",
   "name": "python",
   "nbconvert_exporter": "python",
   "pygments_lexer": "ipython3",
   "version": "3.11.9"
  }
 },
 "nbformat": 4,
 "nbformat_minor": 2
}
